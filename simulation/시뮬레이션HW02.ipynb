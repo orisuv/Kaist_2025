{
  "nbformat": 4,
  "nbformat_minor": 0,
  "metadata": {
    "colab": {
      "provenance": []
    },
    "kernelspec": {
      "name": "python3",
      "display_name": "Python 3"
    },
    "language_info": {
      "name": "python"
    }
  },
  "cells": [
    {
      "cell_type": "markdown",
      "source": [
        "# Distribution of Payments to JP Morgan\n",
        "- Normal-assumption simulation"
      ],
      "metadata": {
        "id": "TrL0PNnpmxce"
      }
    },
    {
      "cell_type": "code",
      "source": [
        "import numpy as np\n",
        "import pandas as pd\n",
        "import matplotlib.pyplot as plt\n",
        "import math\n",
        "\n",
        "# ----- 가정 (슬라이드) -----\n",
        "Y0, B0 = 122.0, 25.884                # means (muY, muB)\n",
        "stdY, stdB = Y0*0.20, B0*0.20          # std = mean * 20%\n",
        "rho = 0.20                             # corr(YT, BT)\n",
        "M = 1000                               # number of simulations (슬라이드와 동일)\n",
        "seed = 42                               # 재현용\n",
        "\n",
        "# 지급식 파라미터\n",
        "notional = 53.0        # $53M\n",
        "base_rate = 0.03       # 3%\n",
        "m = 5                # 바트 항 multiplier (원식). PV표처럼 하려면 5.0으로 바꿔도 됨.\n",
        "rD = 0.03; T = 1.0     # PV 계산용(원하면 사용)\n",
        "\n",
        "rng = np.random.RandomState(seed)\n",
        "\n",
        "# ----- (YT, BT) ~ 다변량 정규 -----\n",
        "mean = np.array([Y0, B0])\n",
        "cov = np.array([[stdY**2,           rho*stdY*stdB],\n",
        "                [rho*stdY*stdB,     stdB**2     ]])\n",
        "\n",
        "samples = rng.multivariate_normal(mean, cov, size=M)\n",
        "YT = samples[:, 0]\n",
        "BT = samples[:, 1]\n",
        "\n",
        "# ----- alpha, payment -----\n",
        "yen_term  = np.maximum(0.0, (YT - Y0) / YT)\n",
        "baht_term = np.minimum(1.0,  m * (B0 - BT) / BT)\n",
        "alpha = yen_term + baht_term\n",
        "\n",
        "payment = notional * (1 - base_rate - alpha)     # (at T, million USD)\n",
        "pv0 = payment * math.exp(-rD*T)                  # (optional) present value\n",
        "\n",
        "# ----- 테이블/히스토그램 (슬라이드 스타일) -----\n",
        "df = pd.DataFrame({\"YT\": YT, \"BT\": BT, \"alpha\": alpha, \"payment\": payment})\n",
        "print(df.head(10).round(2).to_string(index=True))\n",
        "\n",
        "plt.figure(figsize=(6,4))\n",
        "plt.hist(payment, bins=30, edgecolor=\"black\")\n",
        "plt.title(\"Distribution of Payments (M=1000)\")\n",
        "plt.xlabel(\"Payment (million USD)\")\n",
        "plt.ylabel(\"Frequency\")\n",
        "plt.show()"
      ],
      "metadata": {
        "colab": {
          "base_uri": "https://localhost:8080/",
          "height": 614
        },
        "id": "BnEROUd2MV9N",
        "outputId": "47012db6-fd08-4337-c45b-68274bb2f3c4"
      },
      "execution_count": 34,
      "outputs": [
        {
          "output_type": "stream",
          "name": "stdout",
          "text": [
            "       YT     BT  alpha  payment\n",
            "0  109.91  24.65   0.25    38.11\n",
            "1  105.86  32.89  -1.07   107.88\n",
            "2  127.77  24.95   0.23    39.12\n",
            "3   83.30  28.06  -0.39    71.96\n",
            "4  133.33  29.14  -0.47    76.50\n",
            "5  133.41  24.03   0.47    26.40\n",
            "6  116.53  15.94   1.00    -1.59\n",
            "7  164.21  24.90   0.45    27.36\n",
            "8  146.64  28.57  -0.30    67.42\n",
            "9  144.47  19.72   1.16    -9.83\n"
          ]
        },
        {
          "output_type": "display_data",
          "data": {
            "text/plain": [
              "<Figure size 600x400 with 1 Axes>"
            ],
            "image/png": "[encoded data removed]"
          },
          "metadata": {}
        }
      ]
    },
    {
      "cell_type": "markdown",
      "source": [
        "# GBM-inverse FX Monte Carlo — PV Tables (RandomState version)\n",
        "- 난수 발생기: np.random.RandomState (Mersenne Twister)\n",
        "- seed = 42, M = 100,000"
      ],
      "metadata": {
        "id": "2gcriePNGY0h"
      }
    },
    {
      "cell_type": "code",
      "source": [
        "import numpy as np\n",
        "import pandas as pd\n",
        "import math\n",
        "\n",
        "# ---------------- 기본 파라미터 ----------------\n",
        "Y0 = 122.0        # JPY per USD (초기)\n",
        "B0 = 25.884       # THB per USD (초기)\n",
        "T  = 1.0          # (년)\n",
        "\n",
        "rD = 0.03         # USD 할인율\n",
        "rY = 0.01         # JPY 금리\n",
        "rB = 0.13         # THB 금리\n",
        "\n",
        "rho = 0.20        # corr(엔, 바트)\n",
        "notional  = 53.0  # $53M\n",
        "base_rate = 0.03  # 3%\n",
        "M = 100_000       # 시뮬레이션 횟수\n",
        "seed = 42\n",
        "\n",
        "# σY, σB 그리드\n",
        "sigmaY_list = [0.01, 0.05, 0.10, 0.20, 0.30, 0.50]\n",
        "sigmaB_list = [0.01, 0.05, 0.10, 0.20, 0.30, 0.50, 0.60]\n",
        "\n",
        "# multiplier 민감도\n",
        "mult_list = [3.0, 4.0, 5.0, 6.0]"
      ],
      "metadata": {
        "id": "95Va4Cw4FhVk"
      },
      "execution_count": 35,
      "outputs": []
    },
    {
      "cell_type": "code",
      "source": [
        "# --------------- RNG/노이즈 ---------------\n",
        "def make_rng(seed):\n",
        "    return np.random.RandomState(seed)\n",
        "\n",
        "def draw_correlated_normals(n, rho, rng):\n",
        "    z1 = rng.standard_normal(n)\n",
        "    z2 = rng.standard_normal(n)\n",
        "    eps1 = z1\n",
        "    eps2 = rho*z1 + np.sqrt(max(0.0, 1 - rho**2))*z2\n",
        "    return eps1, eps2"
      ],
      "metadata": {
        "id": "bXQiylNCGmRJ"
      },
      "execution_count": 36,
      "outputs": []
    },
    {
      "cell_type": "code",
      "source": [
        "# --------------- 핵심 시뮬레이션 ---------------\n",
        "def simulate_payments_gbm_inverse(sigmaY, sigmaB, m, M, seed):\n",
        "    rng = make_rng(seed)\n",
        "    eps1, eps2 = draw_correlated_normals(M, rho, rng)\n",
        "\n",
        "    # 1/Y, 1/B GBM\n",
        "    invYT = (1.0 / Y0) * np.exp((rD - rY - 0.5*sigmaY**2)*T + sigmaY*eps1*np.sqrt(T))\n",
        "    invBT = (1.0 / B0) * np.exp((rD - rB - 0.5*sigmaB**2)*T + sigmaB*eps2*np.sqrt(T))\n",
        "    YT = 1.0 / invYT\n",
        "    BT = 1.0 / invBT\n",
        "\n",
        "    # alpha, 지급액, 현재가치\n",
        "    yen_term  = np.maximum(0.0, (YT - Y0) / YT)\n",
        "    baht_term = np.minimum(1.0, m * (B0 - BT) / BT)\n",
        "    alpha = yen_term + baht_term\n",
        "    payment_T = notional * (1 - base_rate - alpha)\n",
        "    pv0 = payment_T * math.exp(-rD*T)\n",
        "\n",
        "    return float(np.mean(pv0))"
      ],
      "metadata": {
        "id": "uXnddENyGo_d"
      },
      "execution_count": 37,
      "outputs": []
    },
    {
      "cell_type": "code",
      "source": [
        "# --------------- 표 1: PV 그리드(σY×σB) ---------------\n",
        "def pv_grid_sigma(multiplier=5.0):\n",
        "    table = []\n",
        "    for sy in sigmaY_list:\n",
        "        row = []\n",
        "        for sb in sigmaB_list:\n",
        "            pv = simulate_payments_gbm_inverse(sy, sb, multiplier, M, seed)\n",
        "            row.append(round(pv, 2))\n",
        "        table.append(row)\n",
        "\n",
        "    df = pd.DataFrame(\n",
        "        table,\n",
        "        index=pd.Index([f\"{sy:.2f}\" for sy in sigmaY_list], name=\"sigmaY\"),\n",
        "        columns=pd.Index([f\"{sb:.2f}\" for sb in sigmaB_list], name=\"sigmaB\"),\n",
        "    )\n",
        "    return df\n"
      ],
      "metadata": {
        "id": "7RuDIKkeGsKM"
      },
      "execution_count": 38,
      "outputs": []
    },
    {
      "cell_type": "code",
      "source": [
        "# --------------- 표 2: PV vs multiplier ---------------\n",
        "def pv_vs_multiplier(sy=0.10, sb=0.10):\n",
        "    out = []\n",
        "    for m in mult_list:\n",
        "        pv = simulate_payments_gbm_inverse(sy, sb, m, M, seed)\n",
        "        out.append((m, round(pv, 2)))\n",
        "    return pd.DataFrame(out, columns=[\"multiplier\", \"PV\"])\n"
      ],
      "metadata": {
        "id": "IcZDYryeGu9T"
      },
      "execution_count": 39,
      "outputs": []
    },
    {
      "cell_type": "code",
      "source": [
        "# --------------- 실행 ---------------\n",
        "if __name__ == \"__main__\":\n",
        "    grid_df = pv_grid_sigma(multiplier=5.0)   # σY×σB 그리드, multiplier=5\n",
        "    mult_df = pv_vs_multiplier(0.10, 0.10)   # σY=σB=0.10에서 multiplier 민감도\n",
        "\n",
        "    print(\"=== Present Value Grid (σY × σB, multiplier=5, ρ=0.20, M=100k, seed=0) ===\")\n",
        "    print(grid_df.to_string())\n",
        "\n",
        "    print(\"\\n=== PV vs Multiplier (σY=0.10, σB=0.10, ρ=0.20, M=100k, seed=0) ===\")\n",
        "    print(mult_df.to_string(index=False))"
      ],
      "metadata": {
        "colab": {
          "base_uri": "https://localhost:8080/",
          "height": 0
        },
        "id": "Xu_TnDrAGxcw",
        "outputId": "a40bb8a2-77f9-4655-c015-b8894a56d95f"
      },
      "execution_count": 40,
      "outputs": [
        {
          "output_type": "stream",
          "name": "stdout",
          "text": [
            "=== Present Value Grid (σY × σB, multiplier=5, ρ=0.20, M=100k, seed=0) ===\n",
            "sigmaB   0.01   0.05   0.10   0.20   0.30   0.50    0.60\n",
            "sigmaY                                                  \n",
            "0.01    74.36  74.35  74.35  76.20  81.70  97.77  106.76\n",
            "0.05    73.76  73.75  73.75  75.61  81.11  97.17  106.16\n",
            "0.10    72.77  72.76  72.76  74.61  80.11  96.18  105.17\n",
            "0.20    70.72  70.71  70.71  72.57  78.07  94.13  103.12\n",
            "0.30    68.67  68.66  68.67  70.52  76.02  92.08  101.07\n",
            "0.50    64.62  64.61  64.61  66.46  71.96  88.03   97.02\n",
            "\n",
            "=== PV vs Multiplier (σY=0.10, σB=0.10, ρ=0.20, M=100k, seed=0) ===\n",
            " multiplier    PV\n",
            "        3.0 62.96\n",
            "        4.0 67.86\n",
            "        5.0 72.76\n",
            "        6.0 77.68\n"
          ]
        }
      ]
    }
  ]
}